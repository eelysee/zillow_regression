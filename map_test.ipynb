{
 "cells": [
  {
   "cell_type": "code",
   "execution_count": 1,
   "id": "c88c16d0",
   "metadata": {},
   "outputs": [],
   "source": [
    "import wrangle\n",
    "import plotly.express as px\n",
    "import pandas as pd\n",
    "import matplotlib.pyplot as plt\n",
    "import all_maps"
   ]
  },
  {
   "cell_type": "code",
   "execution_count": 2,
   "id": "97220a93",
   "metadata": {},
   "outputs": [],
   "source": [
    "df = all_maps.get_zillow_map()"
   ]
  },
  {
   "cell_type": "code",
   "execution_count": 3,
   "id": "b987bcbc",
   "metadata": {},
   "outputs": [
    {
     "data": {
      "text/html": [
       "<div>\n",
       "<style scoped>\n",
       "    .dataframe tbody tr th:only-of-type {\n",
       "        vertical-align: middle;\n",
       "    }\n",
       "\n",
       "    .dataframe tbody tr th {\n",
       "        vertical-align: top;\n",
       "    }\n",
       "\n",
       "    .dataframe thead th {\n",
       "        text-align: right;\n",
       "    }\n",
       "</style>\n",
       "<table border=\"1\" class=\"dataframe\">\n",
       "  <thead>\n",
       "    <tr style=\"text-align: right;\">\n",
       "      <th></th>\n",
       "      <th>propertylandusetypeid</th>\n",
       "      <th>latitude</th>\n",
       "      <th>longitude</th>\n",
       "      <th>taxvaluedollarcnt</th>\n",
       "    </tr>\n",
       "  </thead>\n",
       "  <tbody>\n",
       "    <tr>\n",
       "      <th>0</th>\n",
       "      <td>261.0</td>\n",
       "      <td>33634931.0</td>\n",
       "      <td>-117869207.0</td>\n",
       "      <td>1023282.0</td>\n",
       "    </tr>\n",
       "    <tr>\n",
       "      <th>1</th>\n",
       "      <td>261.0</td>\n",
       "      <td>34449266.0</td>\n",
       "      <td>-119281531.0</td>\n",
       "      <td>464000.0</td>\n",
       "    </tr>\n",
       "    <tr>\n",
       "      <th>2</th>\n",
       "      <td>261.0</td>\n",
       "      <td>33886168.0</td>\n",
       "      <td>-117823170.0</td>\n",
       "      <td>564778.0</td>\n",
       "    </tr>\n",
       "    <tr>\n",
       "      <th>3</th>\n",
       "      <td>261.0</td>\n",
       "      <td>34245180.0</td>\n",
       "      <td>-118240722.0</td>\n",
       "      <td>145143.0</td>\n",
       "    </tr>\n",
       "    <tr>\n",
       "      <th>4</th>\n",
       "      <td>266.0</td>\n",
       "      <td>34185120.0</td>\n",
       "      <td>-118414640.0</td>\n",
       "      <td>119407.0</td>\n",
       "    </tr>\n",
       "  </tbody>\n",
       "</table>\n",
       "</div>"
      ],
      "text/plain": [
       "   propertylandusetypeid    latitude    longitude  taxvaluedollarcnt\n",
       "0                  261.0  33634931.0 -117869207.0          1023282.0\n",
       "1                  261.0  34449266.0 -119281531.0           464000.0\n",
       "2                  261.0  33886168.0 -117823170.0           564778.0\n",
       "3                  261.0  34245180.0 -118240722.0           145143.0\n",
       "4                  266.0  34185120.0 -118414640.0           119407.0"
      ]
     },
     "execution_count": 3,
     "metadata": {},
     "output_type": "execute_result"
    }
   ],
   "source": [
    "df.head()"
   ]
  },
  {
   "cell_type": "code",
   "execution_count": 4,
   "id": "24039b24",
   "metadata": {
    "scrolled": true
   },
   "outputs": [
    {
     "data": {
      "text/plain": [
       "propertylandusetypeid\n",
       "261.0    52320\n",
       "266.0    19294\n",
       "246.0     2009\n",
       "269.0     1944\n",
       "248.0      727\n",
       "247.0      535\n",
       "265.0      333\n",
       "263.0       74\n",
       "275.0       58\n",
       "260.0       37\n",
       "267.0       29\n",
       "31.0        15\n",
       "264.0        6\n",
       "Name: count, dtype: int64"
      ]
     },
     "execution_count": 4,
     "metadata": {},
     "output_type": "execute_result"
    }
   ],
   "source": [
    "df.propertylandusetypeid.value_counts()"
   ]
  },
  {
   "cell_type": "code",
   "execution_count": 5,
   "id": "c70774b7",
   "metadata": {},
   "outputs": [
    {
     "data": {
      "text/plain": [
       "propertylandusetypeid    33\n",
       "latitude                 33\n",
       "longitude                33\n",
       "taxvaluedollarcnt        34\n",
       "dtype: int64"
      ]
     },
     "execution_count": 5,
     "metadata": {},
     "output_type": "execute_result"
    }
   ],
   "source": [
    "df.isna().sum()"
   ]
  },
  {
   "cell_type": "code",
   "execution_count": 6,
   "id": "edcbd4a7",
   "metadata": {
    "scrolled": true
   },
   "outputs": [],
   "source": [
    "# droppig nulls\n",
    "#df = df.dropna()"
   ]
  },
  {
   "cell_type": "code",
   "execution_count": 7,
   "id": "8c1c2f9e",
   "metadata": {},
   "outputs": [
    {
     "data": {
      "text/plain": [
       "'df[\\'latitude\\'] = df[\\'latitude\\'] / 1e6\\ndf[\\'longitude\\'] = df[\\'longitude\\'] / 1e6\\n\\n# Plotting\\nfig = px.scatter_geo(\\n    df, \\n    lat=\\'latitude\\', \\n    lon=\\'longitude\\',\\n    color=\\'taxvaluedollarcnt\\', \\n    projection=\"natural earth\",\\n    title=\"Property Locations and Values\",\\n    color_continuous_scale=px.colors.sequential.Plasma\\n)\\nfig.update_geos(showcoastlines=True, coastlinecolor=\"Black\", showland=True, landcolor=\"grey\")\\nfig.update_layout(coloraxis_colorbar=dict(title=\"Property Value\"))\\nfig.show()'"
      ]
     },
     "execution_count": 7,
     "metadata": {},
     "output_type": "execute_result"
    }
   ],
   "source": [
    "# plotly function\n",
    "\"\"\"df['latitude'] = df['latitude'] / 1e6\n",
    "df['longitude'] = df['longitude'] / 1e6\n",
    "\n",
    "# Plotting\n",
    "fig = px.scatter_geo(\n",
    "    df, \n",
    "    lat='latitude', \n",
    "    lon='longitude',\n",
    "    color='taxvaluedollarcnt', \n",
    "    projection=\"natural earth\",\n",
    "    title=\"Property Locations and Values\",\n",
    "    color_continuous_scale=px.colors.sequential.Plasma\n",
    ")\n",
    "fig.update_geos(showcoastlines=True, coastlinecolor=\"Black\", showland=True, landcolor=\"grey\")\n",
    "fig.update_layout(coloraxis_colorbar=dict(title=\"Property Value\"))\n",
    "fig.show()\"\"\""
   ]
  },
  {
   "cell_type": "code",
   "execution_count": 8,
   "id": "35648d8d",
   "metadata": {},
   "outputs": [
    {
     "data": {
      "text/html": [
       "<div>\n",
       "<style scoped>\n",
       "    .dataframe tbody tr th:only-of-type {\n",
       "        vertical-align: middle;\n",
       "    }\n",
       "\n",
       "    .dataframe tbody tr th {\n",
       "        vertical-align: top;\n",
       "    }\n",
       "\n",
       "    .dataframe thead th {\n",
       "        text-align: right;\n",
       "    }\n",
       "</style>\n",
       "<table border=\"1\" class=\"dataframe\">\n",
       "  <thead>\n",
       "    <tr style=\"text-align: right;\">\n",
       "      <th></th>\n",
       "      <th>type</th>\n",
       "      <th>lat</th>\n",
       "      <th>long</th>\n",
       "      <th>value</th>\n",
       "    </tr>\n",
       "  </thead>\n",
       "  <tbody>\n",
       "    <tr>\n",
       "      <th>0</th>\n",
       "      <td>261.0</td>\n",
       "      <td>33.634931</td>\n",
       "      <td>-117.869207</td>\n",
       "      <td>1023282.0</td>\n",
       "    </tr>\n",
       "    <tr>\n",
       "      <th>1</th>\n",
       "      <td>261.0</td>\n",
       "      <td>34.449266</td>\n",
       "      <td>-119.281531</td>\n",
       "      <td>464000.0</td>\n",
       "    </tr>\n",
       "    <tr>\n",
       "      <th>2</th>\n",
       "      <td>261.0</td>\n",
       "      <td>33.886168</td>\n",
       "      <td>-117.823170</td>\n",
       "      <td>564778.0</td>\n",
       "    </tr>\n",
       "    <tr>\n",
       "      <th>3</th>\n",
       "      <td>261.0</td>\n",
       "      <td>34.245180</td>\n",
       "      <td>-118.240722</td>\n",
       "      <td>145143.0</td>\n",
       "    </tr>\n",
       "    <tr>\n",
       "      <th>4</th>\n",
       "      <td>266.0</td>\n",
       "      <td>34.185120</td>\n",
       "      <td>-118.414640</td>\n",
       "      <td>119407.0</td>\n",
       "    </tr>\n",
       "  </tbody>\n",
       "</table>\n",
       "</div>"
      ],
      "text/plain": [
       "    type        lat        long      value\n",
       "0  261.0  33.634931 -117.869207  1023282.0\n",
       "1  261.0  34.449266 -119.281531   464000.0\n",
       "2  261.0  33.886168 -117.823170   564778.0\n",
       "3  261.0  34.245180 -118.240722   145143.0\n",
       "4  266.0  34.185120 -118.414640   119407.0"
      ]
     },
     "execution_count": 8,
     "metadata": {},
     "output_type": "execute_result"
    }
   ],
   "source": [
    "all_maps.fix_map(df)\n",
    "df.head()"
   ]
  }
 ],
 "metadata": {
  "kernelspec": {
   "display_name": "Python 3 (ipykernel)",
   "language": "python",
   "name": "python3"
  },
  "language_info": {
   "codemirror_mode": {
    "name": "ipython",
    "version": 3
   },
   "file_extension": ".py",
   "mimetype": "text/x-python",
   "name": "python",
   "nbconvert_exporter": "python",
   "pygments_lexer": "ipython3",
   "version": "3.10.9"
  }
 },
 "nbformat": 4,
 "nbformat_minor": 5
}
